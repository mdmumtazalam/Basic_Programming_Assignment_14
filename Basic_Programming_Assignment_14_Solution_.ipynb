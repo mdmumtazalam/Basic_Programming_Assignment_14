{
  "cells": [
    {
      "cell_type": "markdown",
      "id": "274904fe",
      "metadata": {
        "id": "274904fe"
      },
      "source": [
        "# Basic_Programming_Assignment_14 Solution :-\n",
        "SUBMITTED BY : MD MUMTAZ ALAM"
      ]
    },
    {
      "cell_type": "markdown",
      "id": "eb630ad1",
      "metadata": {
        "id": "eb630ad1"
      },
      "source": [
        "## 1.Define a class with a generator which can iterate the numbers, which are divisible by 7, between a given range 0 and n. ?"
      ]
    },
    {
      "cell_type": "code",
      "execution_count": null,
      "id": "5ec30c46",
      "metadata": {
        "id": "5ec30c46",
        "outputId": "4de7deb9-d023-418a-b3c9-251fd69042a4"
      },
      "outputs": [
        {
          "name": "stdout",
          "output_type": "stream",
          "text": [
            "0 7 14 21 28 35 42 49 56 63 70 77 84 91 98 "
          ]
        }
      ],
      "source": [
        "class div_generator:\n",
        "    def __init__(self,in_num):\n",
        "        self.in_num = in_num\n",
        "    def get_numbers(self):\n",
        "        for ele in range(0,self.in_num+1):\n",
        "            if ele%7 == 0:\n",
        "                yield ele\n",
        "                \n",
        "output = div_generator(100)\n",
        "for ele in output.get_numbers():\n",
        "    print(ele,end=' ')"
      ]
    },
    {
      "cell_type": "markdown",
      "id": "1c68e17f",
      "metadata": {
        "id": "1c68e17f"
      },
      "source": [
        "## 2.Write a program to compute the frequency of the words from the input. The output should output after sorting the key alphanumerically.\n",
        "\n",
        "Suppose the following input is supplied to the program:\n",
        "\n",
        "New to Python or choosing between Python 2 and Python 3? Read Python 2 or Python 3.\n",
        "\n",
        "Then, the output should be:\n",
        "\n",
        "2:2 3.:1 3?:1 New:1 Python:5 Read:1 and:1 between:1 choosing:1 or:2 to:1"
      ]
    },
    {
      "cell_type": "code",
      "execution_count": null,
      "id": "46860f86",
      "metadata": {
        "id": "46860f86",
        "outputId": "9f30795c-bf30-4f7c-a71d-f688968bd28d"
      },
      "outputs": [
        {
          "name": "stdout",
          "output_type": "stream",
          "text": [
            "Enter the Input String: New to Python or choosing between Python 2 and Python 3? Read Python 2 or Python 3.\n",
            "2:2 3.:1 3?:1 New:1 Python:5 Read:1 and:1 between:1 choosing:1 or:2 to:1 "
          ]
        }
      ],
      "source": [
        "def checkFrequency():\n",
        "    in_string = input(\"Enter the Input String: \")\n",
        "    frequency = {}\n",
        "    for ele in in_string.split(\" \"):\n",
        "        if(frequency.get(ele) == None):\n",
        "            frequency[ele] = 1\n",
        "        else:\n",
        "            frequency[ele] += 1 \n",
        "    for ele in sorted(frequency):\n",
        "        print(f'{ele}:{frequency[ele]}',end=\" \")\n",
        "checkFrequency()"
      ]
    },
    {
      "cell_type": "markdown",
      "id": "c7e1e97f",
      "metadata": {
        "id": "c7e1e97f"
      },
      "source": [
        "## 3.Define a class Person and its two child classes: Male and Female. All classes have a method \"getGender\" which can print \"Male\" for Male class and \"Female\" for Female class. ?"
      ]
    },
    {
      "cell_type": "code",
      "execution_count": null,
      "id": "0aa60641",
      "metadata": {
        "id": "0aa60641",
        "outputId": "f9072b85-372c-4117-901b-434419b5fa90"
      },
      "outputs": [
        {
          "name": "stdout",
          "output_type": "stream",
          "text": [
            "Male\n",
            "Female\n"
          ]
        }
      ],
      "source": [
        "class Person():\n",
        "    def getGender():\n",
        "        pass\n",
        "    \n",
        "class Male(Person):\n",
        "    def getGender():\n",
        "        print(\"Male\")\n",
        "        \n",
        "class Female(Person):\n",
        "    def getGender():\n",
        "        print(\"Female\")\n",
        "\n",
        "Male.getGender()\n",
        "Female.getGender()"
      ]
    },
    {
      "cell_type": "markdown",
      "id": "d8777793",
      "metadata": {
        "id": "d8777793"
      },
      "source": [
        "## 4.Please write a program to generate all sentences where subject is in [\"I\", \"You\"] and verb is in [\"Play\", \"Love\"] and the object is in [\"Hockey\",\"Football\"] ?"
      ]
    },
    {
      "cell_type": "code",
      "execution_count": null,
      "id": "9cb70c15",
      "metadata": {
        "id": "9cb70c15",
        "outputId": "c64edced-bf9e-4c9b-a57a-2eab96ce9410"
      },
      "outputs": [
        {
          "name": "stdout",
          "output_type": "stream",
          "text": [
            "I Play Hockey\n",
            "I Play Football\n",
            "I Love Hockey\n",
            "I Love Football\n",
            "You Play Hockey\n",
            "You Play Football\n",
            "You Love Hockey\n",
            "You Love Football\n"
          ]
        }
      ],
      "source": [
        "def generateSentences():\n",
        "    subject = ['I','You']\n",
        "    verb = ['Play','Love']\n",
        "    object = ['Hockey','Football']\n",
        "    for s in subject:\n",
        "        for v in verb:\n",
        "            for o in object:\n",
        "                print(f'{s} {v} {o}')\n",
        "                \n",
        "generateSentences()"
      ]
    },
    {
      "cell_type": "markdown",
      "id": "c79c5cd2",
      "metadata": {
        "id": "c79c5cd2"
      },
      "source": [
        "## 5.Please write a program to compress and decompress the string \"hello world!hello world!hello world!hello world!\" ?"
      ]
    },
    {
      "cell_type": "code",
      "execution_count": null,
      "id": "ad89bb96",
      "metadata": {
        "id": "ad89bb96",
        "outputId": "48a81a55-be98-4fc9-a0dc-902f504c2cb0"
      },
      "outputs": [
        {
          "name": "stdout",
          "output_type": "stream",
          "text": [
            "hel2o world!hel2o world!hel2o world!hel2o world!\n",
            "hello world!hello world!hello world!hello world!\n",
            "ineuron ful2 stack datascience\n",
            "ineuron full stack datascience\n"
          ]
        }
      ],
      "source": [
        "def compress(in_string):\n",
        "    output = in_string[0]\n",
        "    count = 1\n",
        "    for ele in range(len(in_string)-1):\n",
        "        if in_string[ele] == in_string[ele+1]:\n",
        "            count +=1\n",
        "        else:\n",
        "            if count > 1:\n",
        "                output += str(count)\n",
        "            output += in_string[ele+1]\n",
        "            count = 1\n",
        "    if count > 1:\n",
        "        output += str(count)            \n",
        "    print(output)\n",
        "\n",
        "\n",
        "def decompress(in_string):\n",
        "    output = ''\n",
        "    for ele in range(len(in_string)):\n",
        "        if in_string[ele].isdigit():\n",
        "            output += output[-1]*(int(in_string[ele])-1)\n",
        "        else:\n",
        "            output += in_string[ele]\n",
        "    print(output)\n",
        "    \n",
        "        \n",
        "compress(\"hello world!hello world!hello world!hello world!\")\n",
        "decompress(\"hel2o world!hel2o world!hel2o world!hel2o world!\")\n",
        "\n",
        "compress('ineuron full stack datascience')\n",
        "decompress('ineuron ful2 stack datascience')"
      ]
    },
    {
      "cell_type": "markdown",
      "id": "ef8eb22b",
      "metadata": {
        "id": "ef8eb22b"
      },
      "source": [
        "## 6.Please write a binary search function which searches an item in a sorted list. The function should return the index of element to be searched in the list ?"
      ]
    },
    {
      "cell_type": "code",
      "execution_count": null,
      "id": "4487ae8e",
      "metadata": {
        "id": "4487ae8e",
        "outputId": "6b6fa473-7c85-4272-8bb1-3bdd0916a271"
      },
      "outputs": [
        {
          "name": "stdout",
          "output_type": "stream",
          "text": [
            "7\n",
            "Input Element not in the list\n"
          ]
        }
      ],
      "source": [
        "sorted_list = [1,2,3,4,5,6,7,8,9,10]\n",
        "def binary_search(in_list,in_num):\n",
        "    low = 0\n",
        "    high = len(in_list)-1\n",
        "    while low <= high:\n",
        "        mid = high+low//2\n",
        "        if in_list[mid] < in_num:\n",
        "            low = mid+1\n",
        "        elif in_list[mid] > in_num:\n",
        "            high = mid-1\n",
        "        else:\n",
        "            return mid\n",
        "    else:\n",
        "        return 'Input Element not in the list'\n",
        "    \n",
        "print(binary_search(sorted_list,8))\n",
        "print(binary_search(sorted_list,100))"
      ]
    },
    {
      "cell_type": "markdown",
      "id": "325888a2",
      "metadata": {
        "id": "325888a2"
      },
      "source": [
        "# Thank You"
      ]
    }
  ],
  "metadata": {
    "kernelspec": {
      "display_name": "Python 3 (ipykernel)",
      "language": "python",
      "name": "python3"
    },
    "language_info": {
      "codemirror_mode": {
        "name": "ipython",
        "version": 3
      },
      "file_extension": ".py",
      "mimetype": "text/x-python",
      "name": "python",
      "nbconvert_exporter": "python",
      "pygments_lexer": "ipython3",
      "version": "3.9.7"
    },
    "colab": {
      "provenance": []
    }
  },
  "nbformat": 4,
  "nbformat_minor": 5
}